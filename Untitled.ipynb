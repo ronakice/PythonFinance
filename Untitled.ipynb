{
 "cells": [
  {
   "cell_type": "code",
   "execution_count": 2,
   "metadata": {
    "collapsed": false
   },
   "outputs": [],
   "source": [
    "import datetime as dt\n",
    "import matplotlib.pyplot as plt\n",
    "from matplotlib import style\n",
    "import pandas as pd\n",
    "import pandas_datareader.data as web\n",
    "style.use('ggplot')"
   ]
  },
  {
   "cell_type": "code",
   "execution_count": 3,
   "metadata": {
    "collapsed": true
   },
   "outputs": [],
   "source": [
    "start=dt.datetime(2000,1,1)\n",
    "end = dt.datetime(2016,12,31)\n",
    "df = web.DataReader('TSLA', 'yahoo', start, end)"
   ]
  },
  {
   "cell_type": "code",
   "execution_count": 4,
   "metadata": {
    "collapsed": false
   },
   "outputs": [
    {
     "name": "stdout",
     "output_type": "stream",
     "text": [
      "                 Open   High        Low      Close    Volume  Adj Close\n",
      "Date                                                                   \n",
      "2010-06-29  19.000000  25.00  17.540001  23.889999  18766300  23.889999\n",
      "2010-06-30  25.790001  30.42  23.299999  23.830000  17187100  23.830000\n",
      "2010-07-01  25.000000  25.92  20.270000  21.959999   8218800  21.959999\n",
      "2010-07-02  23.000000  23.10  18.709999  19.200001   5139800  19.200001\n",
      "2010-07-06  20.000000  20.00  15.830000  16.110001   6866900  16.110001\n"
     ]
    }
   ],
   "source": [
    "#first five\n",
    "print(df.head())"
   ]
  },
  {
   "cell_type": "code",
   "execution_count": 5,
   "metadata": {
    "collapsed": false
   },
   "outputs": [
    {
     "name": "stdout",
     "output_type": "stream",
     "text": [
      "                  Open        High         Low       Close   Volume  \\\n",
      "Date                                                                  \n",
      "2016-12-22  208.220001  209.990005  206.500000  208.449997  3106900   \n",
      "2016-12-23  208.000000  213.449997  207.710007  213.339996  4662900   \n",
      "2016-12-27  214.880005  222.250000  214.419998  219.529999  5901400   \n",
      "2016-12-28  221.529999  223.800003  217.199997  219.740005  3766900   \n",
      "2016-12-29  218.559998  219.199997  214.119995  214.679993  4035900   \n",
      "2016-12-30  216.300003  217.500000  211.679993  213.690002  4632700   \n",
      "\n",
      "             Adj Close  \n",
      "Date                    \n",
      "2016-12-22  208.449997  \n",
      "2016-12-23  213.339996  \n",
      "2016-12-27  219.529999  \n",
      "2016-12-28  219.740005  \n",
      "2016-12-29  214.679993  \n",
      "2016-12-30  213.690002  \n"
     ]
    }
   ],
   "source": [
    "print(df.tail(6))"
   ]
  }
 ],
 "metadata": {
  "anaconda-cloud": {},
  "kernelspec": {
   "display_name": "Python [conda root]",
   "language": "python",
   "name": "conda-root-py"
  },
  "language_info": {
   "codemirror_mode": {
    "name": "ipython",
    "version": 3
   },
   "file_extension": ".py",
   "mimetype": "text/x-python",
   "name": "python",
   "nbconvert_exporter": "python",
   "pygments_lexer": "ipython3",
   "version": "3.5.2"
  }
 },
 "nbformat": 4,
 "nbformat_minor": 1
}
